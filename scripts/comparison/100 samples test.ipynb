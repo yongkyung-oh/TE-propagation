{
 "cells": [
  {
   "cell_type": "code",
   "execution_count": 1,
   "metadata": {},
   "outputs": [],
   "source": [
    "#-*- coding:utf-8 -*-\n",
    "\n",
    "import os\n",
    "import sys\n",
    "import time\n",
    "import random\n",
    "import math\n",
    "import pickle\n",
    "import unicodedata\n",
    "\n",
    "import numpy as np\n",
    "import pandas as pd\n",
    "import matplotlib\n",
    "import matplotlib.pyplot as plt\n",
    "import networkx as nx\n",
    "import scipy.stats as st\n",
    "import fathon\n",
    "from fathon import fathonUtils as fu\n",
    "\n",
    "from datetime import datetime, timedelta\n",
    "from tqdm import tqdm\n",
    "from tqdm.contrib.concurrent import process_map\n",
    "from sklearn.preprocessing import StandardScaler\n",
    "from sklearn.metrics import mean_absolute_error, mean_squared_error\n",
    "\n",
    "from rpy2.robjects.packages import importr\n",
    "from rpy2.robjects import robject\n",
    "\n",
    "from statsmodels.tsa.api import VAR\n",
    "\n",
    "import rpy2.robjects.numpy2ri\n",
    "import rpy2.ipython.html\n",
    "rpy2.robjects.numpy2ri.activate()\n",
    "# rpy2.ipython.html.init_printing()\n",
    "\n",
    "rTE = importr('RTransferEntropy', lib_loc=\"/home/yongkyung/R/x86_64-pc-linux-gnu-library/3.6\")\n",
    "rTE.set_quiet(True)\n",
    "\n",
    "from utils_p import *\n",
    "\n",
    "# setup seed\n",
    "def seed_everything(seed):\n",
    "    os.environ['PYTHONHASHSEED'] = str(seed)\n",
    "    random.seed(seed)\n",
    "    np.random.seed(seed)\n",
    "#     torch.manual_seed(seed)\n",
    "#     torch.cuda.manual_seed(seed)\n",
    "#     torch.backends.cudnn.deterministic = True\n",
    "\n",
    "SEED = 12345\n",
    "seed_everything(SEED)"
   ]
  },
  {
   "cell_type": "code",
   "execution_count": 2,
   "metadata": {},
   "outputs": [
    {
     "name": "stderr",
     "output_type": "stream",
     "text": [
      "100%|██████████| 1/1 [00:00<00:00,  1.77it/s]"
     ]
    },
    {
     "name": "stdout",
     "output_type": "stream",
     "text": [
      "[10, 2, 14.0, 0.0, 0.0, 9.0, 0.0]\n"
     ]
    },
    {
     "name": "stderr",
     "output_type": "stream",
     "text": [
      "\n"
     ]
    }
   ],
   "source": [
    "outcome_all = []\n",
    "for lag in [10]:\n",
    "    for noise in [2]:\n",
    "        results_all = []\n",
    "        for rep in tqdm(range(1)):\n",
    "            n = 120\n",
    "            while True:\n",
    "                x = [100] * n + np.random.normal(0, 1, n)*noise\n",
    "\n",
    "                for i in np.arange(10,n):\n",
    "                    if i < 100:\n",
    "                        x[i] = 0.95 * x[i-1] + np.random.normal(0,1)*noise\n",
    "                    else: \n",
    "                        x[i] = 1.10 * x[i-1] + np.random.normal(0,1)*noise\n",
    "                x = pd.Series(x)\n",
    "\n",
    "                if np.min(x) > 0:\n",
    "                    break\n",
    "\n",
    "            k = 0\n",
    "            while True:\n",
    "                random.seed(k)\n",
    "                np.random.seed(k)\n",
    "\n",
    "                y = [70] * n + np.random.normal(0, 1, n)*noise\n",
    "                for i in range(lag, n):\n",
    "                    y[i] = 0.5 * x[i-lag] + 20 + np.random.normal(0,1)*noise\n",
    "                y = pd.Series(y)\n",
    "\n",
    "                out = []\n",
    "                for lag_test in np.arange(1,25,1):\n",
    "                    x_copy = x.to_numpy().copy()\n",
    "                    y_copy = y.to_numpy().copy()\n",
    "\n",
    "                    ETE_value = rTE.calc_ete(x = x_copy[1:(len(x_copy)-lag_test)+1], y = y_copy[(lag_test):len(y_copy)],lx=1,ly=1)\n",
    "                    out.append([lag_test, np.asarray(ETE_value).item()])\n",
    "\n",
    "                #check TE\n",
    "                if lag == (np.argmax(np.array(out)[:,1])+1):\n",
    "                    break\n",
    "\n",
    "                k += 1    \n",
    "\n",
    "            df = pd.DataFrame([x,y], index=['x', 'y']).T\n",
    "            df_diff = np.log(df).diff(1).dropna()\n",
    "            df_diff = df_diff.reset_index()\n",
    "\n",
    "            out_all = []\n",
    "            out_all.append(lag)\n",
    "            out_all.append(noise)\n",
    "\n",
    "            # pearson correlation\n",
    "            corr_out = []\n",
    "            for i in np.arange(1,25):\n",
    "                corr_out.append([i, df_diff['x'].iloc[:-i].corr(df_diff['y'].iloc[i:])])\n",
    "            corr_out = np.array(corr_out)\n",
    "            top_lag = corr_out[np.argmax(corr_out[:,1])][0]\n",
    "            out_all.append(top_lag)\n",
    "\n",
    "            # rhoDCCA\n",
    "            def get_rhoDCCA(x,y):\n",
    "                x_f = fu.toAggregated(x)\n",
    "                y_f = fu.toAggregated(y)\n",
    "\n",
    "                pydcca = fathon.DCCA(x_f, y_f)\n",
    "                winSizes = fu.linRangeByStep(4, 12, step=2)# n size\n",
    "                polOrd = 1\n",
    "\n",
    "                n, rho = pydcca.computeRho(winSizes, polOrd=polOrd)\n",
    "\n",
    "                return pd.DataFrame(rho, index=n)\n",
    "            \n",
    "            corr_out = []\n",
    "            for i in np.arange(1,25):\n",
    "                rhoDCCA = get_rhoDCCA(df_diff['x'].iloc[:-i].to_numpy(),df_diff['y'].iloc[i:].to_numpy())\n",
    "                rhoDCCA.columns = [i]\n",
    "                corr_out.append(rhoDCCA)          \n",
    "            corr_out_df = pd.concat(corr_out, axis=1)\n",
    "            out_all = out_all + corr_out_df.T.idxmax().tolist()\n",
    "            \n",
    "            results_all.append(out_all)\n",
    "\n",
    "        results_all = np.array(results_all)\n",
    "\n",
    "        outcome = []\n",
    "        outcome.append(lag)\n",
    "        outcome.append(noise)\n",
    "        for i in np.arange(2,7):\n",
    "            outcome.append(mean_absolute_error(results_all[:,i], [lag]*len(results_all)))\n",
    "            # outcome.append(mean_squared_error(results_all[:,i], [lag]*len(results_all), squared=False))\n",
    "        print(outcome)\n",
    "        outcome_all.append(outcome)        "
   ]
  },
  {
   "cell_type": "code",
   "execution_count": null,
   "metadata": {},
   "outputs": [],
   "source": []
  },
  {
   "cell_type": "code",
   "execution_count": null,
   "metadata": {},
   "outputs": [],
   "source": []
  },
  {
   "cell_type": "code",
   "execution_count": null,
   "metadata": {},
   "outputs": [],
   "source": []
  },
  {
   "cell_type": "code",
   "execution_count": null,
   "metadata": {},
   "outputs": [],
   "source": []
  },
  {
   "cell_type": "code",
   "execution_count": 3,
   "metadata": {},
   "outputs": [
    {
     "name": "stderr",
     "output_type": "stream",
     "text": [
      "100%|██████████| 100/100 [01:30<00:00,  1.11it/s]\n",
      "  0%|          | 0/100 [00:00<?, ?it/s]"
     ]
    },
    {
     "name": "stdout",
     "output_type": "stream",
     "text": [
      "[5, 1, 4.0, 0.12, 0.12, 0.12, 0.12, 0.12]\n"
     ]
    },
    {
     "name": "stderr",
     "output_type": "stream",
     "text": [
      "100%|██████████| 100/100 [00:53<00:00,  1.87it/s]\n",
      "  0%|          | 0/100 [00:00<?, ?it/s]"
     ]
    },
    {
     "name": "stdout",
     "output_type": "stream",
     "text": [
      "[5, 2, 11.07, 4.95, 16.83, 0.0, 16.83, 0.0]\n"
     ]
    },
    {
     "name": "stderr",
     "output_type": "stream",
     "text": [
      "100%|██████████| 100/100 [01:15<00:00,  1.32it/s]\n",
      "  0%|          | 0/100 [00:00<?, ?it/s]"
     ]
    },
    {
     "name": "stdout",
     "output_type": "stream",
     "text": [
      "[5, 3, 4.0, 2.5, 0.0, 2.5, 0.0, 0.0]\n"
     ]
    },
    {
     "name": "stderr",
     "output_type": "stream",
     "text": [
      "100%|██████████| 100/100 [00:52<00:00,  1.91it/s]\n",
      "  0%|          | 0/100 [00:00<?, ?it/s]"
     ]
    },
    {
     "name": "stdout",
     "output_type": "stream",
     "text": [
      "[10, 1, 11.95, 0.0, 0.0, 0.0, 0.0, 0.0]\n"
     ]
    },
    {
     "name": "stderr",
     "output_type": "stream",
     "text": [
      "100%|██████████| 100/100 [00:50<00:00,  1.96it/s]\n",
      "  0%|          | 0/100 [00:00<?, ?it/s]"
     ]
    },
    {
     "name": "stdout",
     "output_type": "stream",
     "text": [
      "[10, 2, 1.0, 0.0, 0.0, 0.0, 12.0, 0.0]\n"
     ]
    },
    {
     "name": "stderr",
     "output_type": "stream",
     "text": [
      "100%|██████████| 100/100 [00:51<00:00,  1.94it/s]\n",
      "  0%|          | 0/100 [00:00<?, ?it/s]"
     ]
    },
    {
     "name": "stdout",
     "output_type": "stream",
     "text": [
      "[10, 3, 1.0, 0.0, 0.0, 0.0, 12.0, 0.0]\n"
     ]
    },
    {
     "name": "stderr",
     "output_type": "stream",
     "text": [
      "100%|██████████| 100/100 [00:53<00:00,  1.85it/s]\n",
      "  0%|          | 0/100 [00:00<?, ?it/s]"
     ]
    },
    {
     "name": "stdout",
     "output_type": "stream",
     "text": [
      "[15, 1, 1.02, 7.92, 0.0, 0.0, 0.0, 0.0]\n"
     ]
    },
    {
     "name": "stderr",
     "output_type": "stream",
     "text": [
      "100%|██████████| 100/100 [00:54<00:00,  1.83it/s]\n",
      "  0%|          | 0/100 [00:00<?, ?it/s]"
     ]
    },
    {
     "name": "stdout",
     "output_type": "stream",
     "text": [
      "[15, 2, 7.0, 7.0, 7.0, 7.0, 0.0, 0.0]\n"
     ]
    },
    {
     "name": "stderr",
     "output_type": "stream",
     "text": [
      "100%|██████████| 100/100 [00:54<00:00,  1.83it/s]"
     ]
    },
    {
     "name": "stdout",
     "output_type": "stream",
     "text": [
      "[15, 3, 7.0, 7.0, 7.0, 7.0, 0.0, 0.0]\n"
     ]
    },
    {
     "name": "stderr",
     "output_type": "stream",
     "text": [
      "\n"
     ]
    }
   ],
   "source": [
    "outcome_all = []\n",
    "for lag in [5, 10, 15]:\n",
    "    for noise in [1, 2, 3]:\n",
    "        results_all = []\n",
    "        for rep in tqdm(range(100)):\n",
    "            n = 120\n",
    "            while True:\n",
    "                x = [100] * n + np.random.normal(0, 1, n)*noise\n",
    "\n",
    "                for i in np.arange(10,n):\n",
    "                    if i < 100:\n",
    "                        x[i] = 0.95 * x[i-1] + np.random.normal(0,1)*noise\n",
    "                    else: \n",
    "                        x[i] = 1.10 * x[i-1] + np.random.normal(0,1)*noise\n",
    "                x = pd.Series(x)\n",
    "\n",
    "                if np.min(x) > 0:\n",
    "                    break\n",
    "\n",
    "            k = 0\n",
    "            while True:\n",
    "                random.seed(k)\n",
    "                np.random.seed(k)\n",
    "\n",
    "                y = [70] * n + np.random.normal(0, 1, n)*noise\n",
    "                for i in range(lag, n):\n",
    "                    y[i] = 0.5 * x[i-lag] + 20 + np.random.normal(0,1)*noise\n",
    "                y = pd.Series(y)\n",
    "\n",
    "                out = []\n",
    "                for lag_test in np.arange(1,25,1):\n",
    "                    x_copy = x.to_numpy().copy()\n",
    "                    y_copy = y.to_numpy().copy()\n",
    "\n",
    "                    ETE_value = rTE.calc_ete(x = x_copy[1:(len(x_copy)-lag_test)+1], y = y_copy[(lag_test):len(y_copy)],lx=1,ly=1)\n",
    "                    out.append([lag_test, np.asarray(ETE_value).item()])\n",
    "\n",
    "                #check TE\n",
    "                if lag == (np.argmax(np.array(out)[:,1])+1):\n",
    "                    break\n",
    "\n",
    "                k += 1    \n",
    "\n",
    "            df = pd.DataFrame([x,y], index=['x', 'y']).T\n",
    "            df_diff = np.log(df).diff(1).dropna()\n",
    "            df_diff = df_diff.reset_index()\n",
    "\n",
    "            out_all = []\n",
    "            out_all.append(lag)\n",
    "            out_all.append(noise)\n",
    "\n",
    "            # pearson correlation\n",
    "            corr_out = []\n",
    "            for i in np.arange(1,25):\n",
    "                corr_out.append([i, df_diff['x'].iloc[:-i].corr(df_diff['y'].iloc[i:])])\n",
    "            corr_out = np.array(corr_out)\n",
    "            top_lag = corr_out[np.argmax(corr_out[:,1])][0]\n",
    "            out_all.append(top_lag)\n",
    "\n",
    "            # rhoDCCA\n",
    "            def get_rhoDCCA(x,y):\n",
    "                x_f = fu.toAggregated(x)\n",
    "                y_f = fu.toAggregated(y)\n",
    "\n",
    "                pydcca = fathon.DCCA(x_f, y_f)\n",
    "                winSizes = fu.linRangeByStep(4, 12, step=2) # n size\n",
    "                polOrd = 1\n",
    "\n",
    "                n, rho = pydcca.computeRho(winSizes, polOrd=polOrd)\n",
    "\n",
    "                return pd.DataFrame(rho, index=n)\n",
    "            \n",
    "            corr_out = []\n",
    "            for i in np.arange(1,25):\n",
    "                rhoDCCA = get_rhoDCCA(df_diff['x'].iloc[:-i].to_numpy(),df_diff['y'].iloc[i:].to_numpy())\n",
    "                rhoDCCA.columns = [i]\n",
    "                corr_out.append(rhoDCCA)          \n",
    "            corr_out_df = pd.concat(corr_out, axis=1)\n",
    "            out_all = out_all + corr_out_df.T.idxmax().tolist()\n",
    "            \n",
    "            results_all.append(out_all)\n",
    "\n",
    "        results_all = np.array(results_all)\n",
    "\n",
    "        outcome = []\n",
    "        outcome.append(lag)\n",
    "        outcome.append(noise)\n",
    "        for i in np.arange(2,8):\n",
    "            outcome.append(mean_absolute_error(results_all[:,i], [lag]*len(results_all)))\n",
    "            # outcome.append(mean_squared_error(results_all[:,i], [lag]*len(results_all), squared=False))\n",
    "        print(outcome)\n",
    "        outcome_all.append(outcome)    "
   ]
  },
  {
   "cell_type": "code",
   "execution_count": 4,
   "metadata": {},
   "outputs": [
    {
     "data": {
      "text/html": [
       "<div>\n",
       "<style scoped>\n",
       "    .dataframe tbody tr th:only-of-type {\n",
       "        vertical-align: middle;\n",
       "    }\n",
       "\n",
       "    .dataframe tbody tr th {\n",
       "        vertical-align: top;\n",
       "    }\n",
       "\n",
       "    .dataframe thead th {\n",
       "        text-align: right;\n",
       "    }\n",
       "</style>\n",
       "<table border=\"1\" class=\"dataframe\">\n",
       "  <thead>\n",
       "    <tr style=\"text-align: right;\">\n",
       "      <th></th>\n",
       "      <th>0</th>\n",
       "      <th>1</th>\n",
       "      <th>2</th>\n",
       "      <th>3</th>\n",
       "      <th>4</th>\n",
       "      <th>5</th>\n",
       "      <th>6</th>\n",
       "      <th>7</th>\n",
       "    </tr>\n",
       "  </thead>\n",
       "  <tbody>\n",
       "    <tr>\n",
       "      <th>0</th>\n",
       "      <td>5</td>\n",
       "      <td>1</td>\n",
       "      <td>4.00</td>\n",
       "      <td>0.12</td>\n",
       "      <td>0.12</td>\n",
       "      <td>0.12</td>\n",
       "      <td>0.12</td>\n",
       "      <td>0.12</td>\n",
       "    </tr>\n",
       "    <tr>\n",
       "      <th>1</th>\n",
       "      <td>5</td>\n",
       "      <td>2</td>\n",
       "      <td>11.07</td>\n",
       "      <td>4.95</td>\n",
       "      <td>16.83</td>\n",
       "      <td>0.00</td>\n",
       "      <td>16.83</td>\n",
       "      <td>0.00</td>\n",
       "    </tr>\n",
       "    <tr>\n",
       "      <th>2</th>\n",
       "      <td>5</td>\n",
       "      <td>3</td>\n",
       "      <td>4.00</td>\n",
       "      <td>2.50</td>\n",
       "      <td>0.00</td>\n",
       "      <td>2.50</td>\n",
       "      <td>0.00</td>\n",
       "      <td>0.00</td>\n",
       "    </tr>\n",
       "    <tr>\n",
       "      <th>3</th>\n",
       "      <td>10</td>\n",
       "      <td>1</td>\n",
       "      <td>11.95</td>\n",
       "      <td>0.00</td>\n",
       "      <td>0.00</td>\n",
       "      <td>0.00</td>\n",
       "      <td>0.00</td>\n",
       "      <td>0.00</td>\n",
       "    </tr>\n",
       "    <tr>\n",
       "      <th>4</th>\n",
       "      <td>10</td>\n",
       "      <td>2</td>\n",
       "      <td>1.00</td>\n",
       "      <td>0.00</td>\n",
       "      <td>0.00</td>\n",
       "      <td>0.00</td>\n",
       "      <td>12.00</td>\n",
       "      <td>0.00</td>\n",
       "    </tr>\n",
       "    <tr>\n",
       "      <th>5</th>\n",
       "      <td>10</td>\n",
       "      <td>3</td>\n",
       "      <td>1.00</td>\n",
       "      <td>0.00</td>\n",
       "      <td>0.00</td>\n",
       "      <td>0.00</td>\n",
       "      <td>12.00</td>\n",
       "      <td>0.00</td>\n",
       "    </tr>\n",
       "    <tr>\n",
       "      <th>6</th>\n",
       "      <td>15</td>\n",
       "      <td>1</td>\n",
       "      <td>1.02</td>\n",
       "      <td>7.92</td>\n",
       "      <td>0.00</td>\n",
       "      <td>0.00</td>\n",
       "      <td>0.00</td>\n",
       "      <td>0.00</td>\n",
       "    </tr>\n",
       "    <tr>\n",
       "      <th>7</th>\n",
       "      <td>15</td>\n",
       "      <td>2</td>\n",
       "      <td>7.00</td>\n",
       "      <td>7.00</td>\n",
       "      <td>7.00</td>\n",
       "      <td>7.00</td>\n",
       "      <td>0.00</td>\n",
       "      <td>0.00</td>\n",
       "    </tr>\n",
       "    <tr>\n",
       "      <th>8</th>\n",
       "      <td>15</td>\n",
       "      <td>3</td>\n",
       "      <td>7.00</td>\n",
       "      <td>7.00</td>\n",
       "      <td>7.00</td>\n",
       "      <td>7.00</td>\n",
       "      <td>0.00</td>\n",
       "      <td>0.00</td>\n",
       "    </tr>\n",
       "  </tbody>\n",
       "</table>\n",
       "</div>"
      ],
      "text/plain": [
       "    0  1      2     3      4     5      6     7\n",
       "0   5  1   4.00  0.12   0.12  0.12   0.12  0.12\n",
       "1   5  2  11.07  4.95  16.83  0.00  16.83  0.00\n",
       "2   5  3   4.00  2.50   0.00  2.50   0.00  0.00\n",
       "3  10  1  11.95  0.00   0.00  0.00   0.00  0.00\n",
       "4  10  2   1.00  0.00   0.00  0.00  12.00  0.00\n",
       "5  10  3   1.00  0.00   0.00  0.00  12.00  0.00\n",
       "6  15  1   1.02  7.92   0.00  0.00   0.00  0.00\n",
       "7  15  2   7.00  7.00   7.00  7.00   0.00  0.00\n",
       "8  15  3   7.00  7.00   7.00  7.00   0.00  0.00"
      ]
     },
     "execution_count": 4,
     "metadata": {},
     "output_type": "execute_result"
    }
   ],
   "source": [
    "pd.DataFrame(outcome_all)"
   ]
  },
  {
   "cell_type": "code",
   "execution_count": 6,
   "metadata": {},
   "outputs": [
    {
     "data": {
      "text/html": [
       "<div>\n",
       "<style scoped>\n",
       "    .dataframe tbody tr th:only-of-type {\n",
       "        vertical-align: middle;\n",
       "    }\n",
       "\n",
       "    .dataframe tbody tr th {\n",
       "        vertical-align: top;\n",
       "    }\n",
       "\n",
       "    .dataframe thead tr th {\n",
       "        text-align: left;\n",
       "    }\n",
       "</style>\n",
       "<table border=\"1\" class=\"dataframe\">\n",
       "  <thead>\n",
       "    <tr>\n",
       "      <th>lag</th>\n",
       "      <th colspan=\"3\" halign=\"left\">5</th>\n",
       "      <th colspan=\"3\" halign=\"left\">10</th>\n",
       "      <th colspan=\"3\" halign=\"left\">15</th>\n",
       "    </tr>\n",
       "    <tr>\n",
       "      <th>noise</th>\n",
       "      <th>1</th>\n",
       "      <th>2</th>\n",
       "      <th>3</th>\n",
       "      <th>1</th>\n",
       "      <th>2</th>\n",
       "      <th>3</th>\n",
       "      <th>1</th>\n",
       "      <th>2</th>\n",
       "      <th>3</th>\n",
       "    </tr>\n",
       "  </thead>\n",
       "  <tbody>\n",
       "    <tr>\n",
       "      <th>TLCC</th>\n",
       "      <td>4.00</td>\n",
       "      <td>11.07</td>\n",
       "      <td>4.0</td>\n",
       "      <td>11.95</td>\n",
       "      <td>1.0</td>\n",
       "      <td>1.0</td>\n",
       "      <td>1.02</td>\n",
       "      <td>7.0</td>\n",
       "      <td>7.0</td>\n",
       "    </tr>\n",
       "    <tr>\n",
       "      <th>DCCA(4)</th>\n",
       "      <td>0.12</td>\n",
       "      <td>4.95</td>\n",
       "      <td>2.5</td>\n",
       "      <td>0.00</td>\n",
       "      <td>0.0</td>\n",
       "      <td>0.0</td>\n",
       "      <td>7.92</td>\n",
       "      <td>7.0</td>\n",
       "      <td>7.0</td>\n",
       "    </tr>\n",
       "    <tr>\n",
       "      <th>DCCA(6)</th>\n",
       "      <td>0.12</td>\n",
       "      <td>16.83</td>\n",
       "      <td>0.0</td>\n",
       "      <td>0.00</td>\n",
       "      <td>0.0</td>\n",
       "      <td>0.0</td>\n",
       "      <td>0.00</td>\n",
       "      <td>7.0</td>\n",
       "      <td>7.0</td>\n",
       "    </tr>\n",
       "    <tr>\n",
       "      <th>DCCA(8)</th>\n",
       "      <td>0.12</td>\n",
       "      <td>0.00</td>\n",
       "      <td>2.5</td>\n",
       "      <td>0.00</td>\n",
       "      <td>0.0</td>\n",
       "      <td>0.0</td>\n",
       "      <td>0.00</td>\n",
       "      <td>7.0</td>\n",
       "      <td>7.0</td>\n",
       "    </tr>\n",
       "    <tr>\n",
       "      <th>DCCA(10)</th>\n",
       "      <td>0.12</td>\n",
       "      <td>16.83</td>\n",
       "      <td>0.0</td>\n",
       "      <td>0.00</td>\n",
       "      <td>12.0</td>\n",
       "      <td>12.0</td>\n",
       "      <td>0.00</td>\n",
       "      <td>0.0</td>\n",
       "      <td>0.0</td>\n",
       "    </tr>\n",
       "    <tr>\n",
       "      <th>DCCA(12)</th>\n",
       "      <td>0.12</td>\n",
       "      <td>0.00</td>\n",
       "      <td>0.0</td>\n",
       "      <td>0.00</td>\n",
       "      <td>0.0</td>\n",
       "      <td>0.0</td>\n",
       "      <td>0.00</td>\n",
       "      <td>0.0</td>\n",
       "      <td>0.0</td>\n",
       "    </tr>\n",
       "  </tbody>\n",
       "</table>\n",
       "</div>"
      ],
      "text/plain": [
       "lag         5                  10                15          \n",
       "noise        1      2    3      1     2     3     1    2    3\n",
       "TLCC      4.00  11.07  4.0  11.95   1.0   1.0  1.02  7.0  7.0\n",
       "DCCA(4)   0.12   4.95  2.5   0.00   0.0   0.0  7.92  7.0  7.0\n",
       "DCCA(6)   0.12  16.83  0.0   0.00   0.0   0.0  0.00  7.0  7.0\n",
       "DCCA(8)   0.12   0.00  2.5   0.00   0.0   0.0  0.00  7.0  7.0\n",
       "DCCA(10)  0.12  16.83  0.0   0.00  12.0  12.0  0.00  0.0  0.0\n",
       "DCCA(12)  0.12   0.00  0.0   0.00   0.0   0.0  0.00  0.0  0.0"
      ]
     },
     "execution_count": 6,
     "metadata": {},
     "output_type": "execute_result"
    }
   ],
   "source": [
    "outcome_df = pd.DataFrame(outcome_all, columns=['lag', 'noise', 'TLCC', 'DCCA(4)', 'DCCA(6)', 'DCCA(8)', 'DCCA(10)', 'DCCA(12)']).set_index(['lag','noise']).T\n",
    "outcome_df"
   ]
  },
  {
   "cell_type": "code",
   "execution_count": 8,
   "metadata": {},
   "outputs": [
    {
     "data": {
      "text/plain": [
       "TLCC        5.337778\n",
       "DCCA(4)     3.276667\n",
       "DCCA(6)     3.438889\n",
       "DCCA(8)     1.846667\n",
       "DCCA(10)    4.550000\n",
       "DCCA(12)    0.013333\n",
       "dtype: float64"
      ]
     },
     "execution_count": 8,
     "metadata": {},
     "output_type": "execute_result"
    }
   ],
   "source": [
    "outcome_df.mean(axis=1)"
   ]
  },
  {
   "cell_type": "code",
   "execution_count": 9,
   "metadata": {},
   "outputs": [],
   "source": [
    "outcome_df.to_csv('outcome.csv')"
   ]
  }
 ],
 "metadata": {
  "kernelspec": {
   "display_name": "Python [conda env:traffic]",
   "language": "python",
   "name": "conda-env-traffic-py"
  },
  "language_info": {
   "codemirror_mode": {
    "name": "ipython",
    "version": 3
   },
   "file_extension": ".py",
   "mimetype": "text/x-python",
   "name": "python",
   "nbconvert_exporter": "python",
   "pygments_lexer": "ipython3",
   "version": "3.8.8"
  }
 },
 "nbformat": 4,
 "nbformat_minor": 4
}
